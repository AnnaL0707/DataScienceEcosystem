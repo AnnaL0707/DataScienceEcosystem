{
 "cells": [
  {
   "cell_type": "markdown",
   "id": "c60d24c9-2b71-4ab3-909a-b6cc0827e44a",
   "metadata": {},
   "source": [
    "# H1: Data Science Tools and Ecosystem"
   ]
  },
  {
   "cell_type": "markdown",
   "id": "f2545f26-bdc9-44b8-bcea-d7705a5abed5",
   "metadata": {},
   "source": [
    "## In this notebook, Data Science Tools and Ecosystem are summarized"
   ]
  },
  {
   "cell_type": "markdown",
   "id": "9dc4aa23-fccc-46fd-b5d6-fc6243c308a8",
   "metadata": {},
   "source": [
    "**Obejctives:**\n",
    "- Popular Languages in Data Science\n",
    "- Commonly Used Libraries\n",
    "- Open Source Data Science Tools"
   ]
  },
  {
   "cell_type": "markdown",
   "id": "11fcc459-f78e-4dc7-b24d-5540356f6015",
   "metadata": {},
   "source": [
    "### Some of the popular languages that Data Scientists use are:\n",
    "1. Python\n",
    "2. R\n",
    "3. SQL"
   ]
  },
  {
   "cell_type": "markdown",
   "id": "90dd6acc-1557-47c8-bc12-3ebf5a4bbfb9",
   "metadata": {},
   "source": [
    "### Some of the commonly used libraries used by Data Scientists include: \n",
    "1. Scientific Libraries\n",
    "2. Visusalization Libraries\n",
    "3. Deep Learning Libraries"
   ]
  },
  {
   "cell_type": "markdown",
   "id": "ac834639-7099-42bd-8b53-0b9bf63b5955",
   "metadata": {},
   "source": [
    "| Data Science Tools |\n",
    "|--------------------|\n",
    "| Apache Zeppelin |\n",
    "| Jupyter |\n",
    "| RStudio |"
   ]
  },
  {
   "cell_type": "markdown",
   "id": "a9a2751e-7e8e-422d-a3fc-c9f3e0db64a8",
   "metadata": {},
   "source": [
    "### Below are a few examples of evaluating arithmetic expressions in Python"
   ]
  },
  {
   "cell_type": "code",
   "execution_count": 3,
   "id": "46029db1-b489-4b80-92ec-a475ab45eb25",
   "metadata": {},
   "outputs": [
    {
     "data": {
      "text/plain": [
       "17"
      ]
     },
     "execution_count": 3,
     "metadata": {},
     "output_type": "execute_result"
    }
   ],
   "source": [
    "# This a simple arithmetic expression to multiply then add integers\n",
    "(3*4)+5"
   ]
  },
  {
   "cell_type": "code",
   "execution_count": 4,
   "id": "4f8c5eae-ef8a-4db5-9d74-e3760230d627",
   "metadata": {},
   "outputs": [
    {
     "name": "stdout",
     "output_type": "stream",
     "text": [
      "200 minutes is equal to 3.3333333333333335 hours.\n"
     ]
    }
   ],
   "source": [
    "#This will convert 200 minutes to hours by deviding by 60\n",
    "def minutes_to_hours(minutes):\n",
    "    hours = minutes / 60\n",
    "    return hours\n",
    "minutes = 200\n",
    "hours = minutes_to_hours(minutes)\n",
    "print(f\"{minutes} minutes is equal to {hours} hours.\")\n"
   ]
  },
  {
   "cell_type": "markdown",
   "id": "8eb85d9b-82f3-4c39-8fdb-b32b95658646",
   "metadata": {},
   "source": [
    "## Author\n",
    "Anna Lukashevich"
   ]
  },
  {
   "cell_type": "code",
   "execution_count": null,
   "id": "f8061b1c-a008-4dac-ad55-162531228bd7",
   "metadata": {},
   "outputs": [],
   "source": []
  }
 ],
 "metadata": {
  "kernelspec": {
   "display_name": "Python 3 (ipykernel)",
   "language": "python",
   "name": "python3"
  },
  "language_info": {
   "codemirror_mode": {
    "name": "ipython",
    "version": 3
   },
   "file_extension": ".py",
   "mimetype": "text/x-python",
   "name": "python",
   "nbconvert_exporter": "python",
   "pygments_lexer": "ipython3",
   "version": "3.12.7"
  }
 },
 "nbformat": 4,
 "nbformat_minor": 5
}
